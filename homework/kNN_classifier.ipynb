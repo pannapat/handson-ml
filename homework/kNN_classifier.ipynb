{
 "cells": [
  {
   "cell_type": "code",
   "execution_count": 1,
   "metadata": {},
   "outputs": [],
   "source": [
    "import os\n",
    "from six.moves import urllib\n",
    "\n",
    "DOWNLOAD_ROOT = \"https://raw.githubusercontent.com/kscanne/1070/master/lab07/\"\n",
    "TRAIN_URL = DOWNLOAD_ROOT + \"train.csv\"\n",
    "TEST_URL = DOWNLOAD_ROOT + \"test.csv\"\n",
    "DATASET_PATH = \"/home/floccom/Spring2019/MachineLearning/kNN_classifier\"\n",
    "\n",
    "def fetch_data(train_url=TRAIN_URL, test_url=TEST_URL, dataset_path=DATASET_PATH):\n",
    "    if not os.path.isdir(dataset_path):\n",
    "        os.makedirs(dataset_path)\n",
    "    train_path = os.path.join(dataset_path, \"train.csv\")\n",
    "    test_path = os.path.join(dataset_path, \"test.csv\")\n",
    "    urllib.request.urlretrieve(train_url, train_path)\n",
    "    urllib.request.urlretrieve(test_url, test_path)\n"
   ]
  },
  {
   "cell_type": "code",
   "execution_count": 4,
   "metadata": {},
   "outputs": [],
   "source": [
    "fetch_data()"
   ]
  },
  {
   "cell_type": "code",
   "execution_count": 25,
   "metadata": {},
   "outputs": [],
   "source": [
    "import numpy as np\n",
    "\n",
    "def load_data(dataset_path=DATASET_PATH):\n",
    "    csv_train_path = os.path.join(dataset_path, \"train.csv\")\n",
    "    csv_test_path = os.path.join(dataset_path, \"test.csv\")\n",
    "    return np.genfromtxt(csv_train_path, delimiter=','), np.genfromtxt(csv_test_path, delimiter=',')\n"
   ]
  },
  {
   "cell_type": "code",
   "execution_count": 26,
   "metadata": {},
   "outputs": [],
   "source": [
    "train_data, test_data = load_data()"
   ]
  },
  {
   "cell_type": "code",
   "execution_count": 39,
   "metadata": {},
   "outputs": [],
   "source": [
    "y_train = train_data[:,0]\n",
    "X_train = train_data[:,1:]\n",
    "y_test = test_data[:,0]\n",
    "X_test = test_data[:,1:]\n"
   ]
  },
  {
   "cell_type": "code",
   "execution_count": 42,
   "metadata": {},
   "outputs": [],
   "source": [
    "import matplotlib as mpl\n",
    "import matplotlib.pyplot as plt\n",
    "mpl.rc('axes', labelsize=14)\n",
    "mpl.rc('xtick', labelsize=12)\n",
    "mpl.rc('ytick', labelsize=12)\n",
    "\n",
    "def show_digit(some_digit):\n",
    "    some_digit_image = some_digit.reshape(28, 28)\n",
    "    plt.imshow(some_digit_image, cmap = mpl.cm.binary,\n",
    "           interpolation=\"nearest\")\n",
    "    plt.axis(\"off\")\n",
    "    plt.show()"
   ]
  },
  {
   "cell_type": "code",
   "execution_count": 43,
   "metadata": {},
   "outputs": [
    {
     "data": {
      "image/png": "[encoded data removed]",
      "text/plain": [
       "<Figure size 432x288 with 1 Axes>"
      ]
     },
     "metadata": {
      "needs_background": "light"
     },
     "output_type": "display_data"
    }
   ],
   "source": [
    "show_digit(X_train[2500])"
   ]
  },
  {
   "cell_type": "code",
   "execution_count": 44,
   "metadata": {},
   "outputs": [
    {
     "data": {
      "text/plain": [
       "4.0"
      ]
     },
     "execution_count": 44,
     "metadata": {},
     "output_type": "execute_result"
    }
   ],
   "source": [
    "y_train[2500]"
   ]
  },
  {
   "cell_type": "code",
   "execution_count": 60,
   "metadata": {},
   "outputs": [],
   "source": [
    "def binary_classifier(example, digit, K):\n",
    "    S = []\n",
    "    for x, y in zip(X_train, y_train):\n",
    "        diff = np.sum((np.absolute(example-x)))\n",
    "        S.append((diff, y))\n",
    "    S.sort(key=lambda x: x[0])\n",
    "    y = 0\n",
    "    for k in range(K):\n",
    "        if S[k][1] == digit:\n",
    "            y += 1\n",
    "        else:\n",
    "            y -= 1\n",
    "    return np.sign(y)"
   ]
  },
  {
   "cell_type": "code",
   "execution_count": 66,
   "metadata": {},
   "outputs": [],
   "source": [
    "def multiclass_classifier(example, K):\n",
    "    digit = 0\n",
    "    while binary_classifier(example, digit, K) < 1 and digit < 10:\n",
    "        digit += 1\n",
    "    return digit"
   ]
  },
  {
   "cell_type": "code",
   "execution_count": 69,
   "metadata": {},
   "outputs": [
    {
     "data": {
      "text/plain": [
       "4"
      ]
     },
     "execution_count": 69,
     "metadata": {},
     "output_type": "execute_result"
    }
   ],
   "source": [
    "multiclass_classifier(X_train[2500], 100)"
   ]
  },
  {
   "cell_type": "code",
   "execution_count": 73,
   "metadata": {},
   "outputs": [],
   "source": [
    "def accuracy():\n",
    "    TP = 0\n",
    "    for x,y in zip(X_test, y_test):\n",
    "        if multiclass_classifier(x, 10) == y:\n",
    "            TP += 1\n",
    "    return TP/100"
   ]
  },
  {
   "cell_type": "code",
   "execution_count": 74,
   "metadata": {},
   "outputs": [
    {
     "data": {
      "text/plain": [
       "0.87"
      ]
     },
     "execution_count": 74,
     "metadata": {},
     "output_type": "execute_result"
    }
   ],
   "source": [
    "accuracy()"
   ]
  },
  {
   "cell_type": "code",
   "execution_count": null,
   "metadata": {},
   "outputs": [],
   "source": []
  }
 ],
 "metadata": {
  "kernelspec": {
   "display_name": "Python 3",
   "language": "python",
   "name": "python3"
  },
  "language_info": {
   "codemirror_mode": {
    "name": "ipython",
    "version": 3
   },
   "file_extension": ".py",
   "mimetype": "text/x-python",
   "name": "python",
   "nbconvert_exporter": "python",
   "pygments_lexer": "ipython3",
   "version": "3.7.0"
  }
 },
 "nbformat": 4,
 "nbformat_minor": 2
}
