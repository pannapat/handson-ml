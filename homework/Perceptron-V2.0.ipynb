{
 "cells": [
  {
   "cell_type": "code",
   "execution_count": 2,
   "metadata": {},
   "outputs": [],
   "source": [
    "import os\n",
    "from six.moves import urllib\n",
    "\n",
    "DOWNLOAD_ROOT = \"https://raw.githubusercontent.com/kscanne/5750/master/data/\"\n",
    "TRAIN_URL = DOWNLOAD_ROOT + \"ga-sentiment-train.csv\"\n",
    "TEST_URL = DOWNLOAD_ROOT + \"ga-sentiment-test.csv\"\n",
    "VOCAB_URL = DOWNLOAD_ROOT + \"ga-sentiment-vocab.txt\"\n",
    "DATASET_PATH = os.path.join(\"datasets\", \"ga-sentiment\")\n",
    "\n",
    "def fetch_data(train_url=TRAIN_URL, test_url=TEST_URL, vocab_url=VOCAB_URL, dataset_path=DATASET_PATH):\n",
    "    if not os.path.isdir(dataset_path):\n",
    "        os.makedirs(dataset_path)\n",
    "    train_path = os.path.join(dataset_path, \"train.csv\")\n",
    "    test_path = os.path.join(dataset_path, \"test.csv\")\n",
    "    vocab_path = os.path.join(dataset_path, \"vocab.csv\")\n",
    "    urllib.request.urlretrieve(train_url, train_path)\n",
    "    urllib.request.urlretrieve(test_url, test_path)\n",
    "    urllib.request.urlretrieve(vocab_url, vocab_path)\n"
   ]
  },
  {
   "cell_type": "code",
   "execution_count": 3,
   "metadata": {},
   "outputs": [],
   "source": [
    "fetch_data()"
   ]
  },
  {
   "cell_type": "code",
   "execution_count": 4,
   "metadata": {},
   "outputs": [],
   "source": [
    "import csv\n",
    "\n",
    "def load_data(dataset_path=DATASET_PATH):\n",
    "    csv_train_path = os.path.join(dataset_path, \"train.csv\")\n",
    "    csv_test_path = os.path.join(dataset_path, \"test.csv\")\n",
    "    csv_vocab_path = os.path.join(dataset_path, \"vocab.csv\")\n",
    "    train = []\n",
    "    test = []\n",
    "    vocab = []\n",
    "    with open(csv_train_path) as csvfile:\n",
    "        csvreader = csv.reader(csvfile, delimiter=',')\n",
    "        for row in csvreader:\n",
    "            train.append(row)\n",
    "\n",
    "    with open(csv_test_path) as csvfile:\n",
    "        csvreader = csv.reader(csvfile, delimiter=',')\n",
    "        for row in csvreader:\n",
    "            test.append(row)\n",
    "\n",
    "    with open(csv_vocab_path) as csvfile:\n",
    "        csvreader = csv.reader(csvfile, delimiter=',')\n",
    "        for row in csvreader:\n",
    "            vocab.append(row)\n",
    "            \n",
    "    return train, test, vocab"
   ]
  },
  {
   "cell_type": "code",
   "execution_count": 12,
   "metadata": {},
   "outputs": [],
   "source": [
    "train, test, vocab = load_data()"
   ]
  },
  {
   "cell_type": "code",
   "execution_count": 13,
   "metadata": {},
   "outputs": [],
   "source": [
    "import numpy as np\n",
    "\n",
    "def separate_data(data, n_features):\n",
    "    arrays = []\n",
    "    labels = []\n",
    "    for d in data:\n",
    "        if int(d[0]) == 1:\n",
    "            labels.append(1)\n",
    "        else: \n",
    "            labels.append(-1)\n",
    "        array = [0] * n_features\n",
    "        for x in d[1:]:\n",
    "            array[int(x)] = 1\n",
    "        arrays.append(array)\n",
    "    return np.array(arrays), np.array(labels)\n",
    "        "
   ]
  },
  {
   "cell_type": "code",
   "execution_count": 14,
   "metadata": {},
   "outputs": [],
   "source": [
    "X_train, y_train = separate_data(train, len(vocab))\n",
    "X_test, y_test = separate_data(test, len(vocab))"
   ]
  },
  {
   "cell_type": "code",
   "execution_count": 23,
   "metadata": {},
   "outputs": [],
   "source": [
    "from sklearn.utils import shuffle\n",
    "\n",
    "def perceptron_train(arrays, labels, max_iter):\n",
    "    n_features = len(arrays[0])\n",
    "#     print(n_features)\n",
    "    n_instances = len(arrays)\n",
    "#     print(n_instances)\n",
    "    w = np.zeros(n_features)\n",
    "    b = 0\n",
    "    for iteration in range(max_iter):\n",
    "        arrays, labels = shuffle(arrays, labels)\n",
    "        for i in range(n_instances):\n",
    "            x = arrays[i]\n",
    "            y = labels[i]\n",
    "            a = np.multiply(w, x).sum() + b\n",
    "            if a*y <= 0:\n",
    "                w += np.multiply(y, x)\n",
    "                b += y\n",
    "    return w, b           "
   ]
  },
  {
   "cell_type": "code",
   "execution_count": 24,
   "metadata": {},
   "outputs": [
    {
     "name": "stdout",
     "output_type": "stream",
     "text": [
      "5001\n",
      "18000\n"
     ]
    }
   ],
   "source": [
    "w, b = perceptron_train(X_train, y_train, 5)"
   ]
  },
  {
   "cell_type": "code",
   "execution_count": 11,
   "metadata": {},
   "outputs": [
    {
     "name": "stdout",
     "output_type": "stream",
     "text": [
      "[[1 0 1 ... 0 0 1]\n",
      " [1 0 0 ... 0 0 1]\n",
      " [0 0 1 ... 0 0 1]\n",
      " ...\n",
      " [0 0 0 ... 0 0 0]\n",
      " [0 1 0 ... 0 0 1]\n",
      " [0 0 0 ... 0 0 1]]\n"
     ]
    }
   ],
   "source": [
    "print(X_train)"
   ]
  },
  {
   "cell_type": "code",
   "execution_count": 15,
   "metadata": {},
   "outputs": [
    {
     "data": {
      "text/plain": [
       "18000"
      ]
     },
     "execution_count": 15,
     "metadata": {},
     "output_type": "execute_result"
    }
   ],
   "source": [
    "len(X_train)"
   ]
  },
  {
   "cell_type": "code",
   "execution_count": 17,
   "metadata": {},
   "outputs": [
    {
     "data": {
      "text/plain": [
       "array([1, 0, 1, ..., 0, 0, 1])"
      ]
     },
     "execution_count": 17,
     "metadata": {},
     "output_type": "execute_result"
    }
   ],
   "source": [
    "X_train[0]"
   ]
  },
  {
   "cell_type": "code",
   "execution_count": 16,
   "metadata": {},
   "outputs": [
    {
     "data": {
      "text/plain": [
       "5001"
      ]
     },
     "execution_count": 16,
     "metadata": {},
     "output_type": "execute_result"
    }
   ],
   "source": [
    "len(X_train[0])"
   ]
  },
  {
   "cell_type": "code",
   "execution_count": 25,
   "metadata": {},
   "outputs": [],
   "source": [
    "def perceptron_test(arrays, labels, weights, bias):\n",
    "    n_features = len(arrays[0]) # 18,000\n",
    "    n_instances = len(arrays)   # 5,001\n",
    "    correct = 0\n",
    "    for i in range(n_instances):\n",
    "        x = arrays[i]\n",
    "        y = labels[i]\n",
    "        a = np.multiply(w, x).sum() + b\n",
    "        if a*y >= 0:\n",
    "            correct += 1\n",
    "    return correct/n_instances"
   ]
  },
  {
   "cell_type": "code",
   "execution_count": 10,
   "metadata": {},
   "outputs": [
    {
     "name": "stdout",
     "output_type": "stream",
     "text": [
      "0.707\n"
     ]
    }
   ],
   "source": [
    "print(perceptron_test(X_test, y_test, w, b))"
   ]
  },
  {
   "cell_type": "code",
   "execution_count": null,
   "metadata": {},
   "outputs": [],
   "source": []
  },
  {
   "cell_type": "code",
   "execution_count": null,
   "metadata": {},
   "outputs": [],
   "source": []
  },
  {
   "cell_type": "code",
   "execution_count": null,
   "metadata": {},
   "outputs": [],
   "source": []
  },
  {
   "cell_type": "code",
   "execution_count": null,
   "metadata": {},
   "outputs": [],
   "source": []
  },
  {
   "cell_type": "code",
   "execution_count": null,
   "metadata": {},
   "outputs": [],
   "source": []
  }
 ],
 "metadata": {
  "kernelspec": {
   "display_name": "Python 3",
   "language": "python",
   "name": "python3"
  },
  "language_info": {
   "codemirror_mode": {
    "name": "ipython",
    "version": 3
   },
   "file_extension": ".py",
   "mimetype": "text/x-python",
   "name": "python",
   "nbconvert_exporter": "python",
   "pygments_lexer": "ipython3",
   "version": "3.7.0"
  }
 },
 "nbformat": 4,
 "nbformat_minor": 2
}
