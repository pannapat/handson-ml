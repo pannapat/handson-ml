{
 "cells": [
  {
   "cell_type": "code",
   "execution_count": 7,
   "metadata": {},
   "outputs": [],
   "source": [
    "import numpy as np\n",
    "import pandas as pd\n",
    "from sklearn.model_selection import train_test_split\n",
    "from sklearn.preprocessing import LabelEncoder\n",
    "\n",
    "import keras\n",
    "from keras.utils import to_categorical\n",
    "from keras.preprocessing.text import Tokenizer"
   ]
  },
  {
   "cell_type": "code",
   "execution_count": 8,
   "metadata": {
    "scrolled": true
   },
   "outputs": [
    {
     "name": "stdout",
     "output_type": "stream",
     "text": [
      "data shape: (6826, 2)\n",
      "number of classes: 6\n",
      "train data shape X, y: (5460,),(5460,)\n",
      "test data shape X, y: (1366,),(1366,)\n"
     ]
    }
   ],
   "source": [
    "df = pd.read_csv('./data/dataset.csv')\n",
    "print('data shape: {}'.format(df.shape))\n",
    "\n",
    "X = df['NAME']\n",
    "y = df['NATIONALITY']\n",
    "\n",
    "classes = y.unique()\n",
    "num_classes = len(y.unique())\n",
    "\n",
    "print('number of classes: {}'.format(num_classes))\n",
    "\n",
    "X_train_df, X_test_df, y_train_df, y_test_df = train_test_split(X, y, test_size=0.2, random_state=42)\n",
    "\n",
    "print('train data shape X, y: {},{}'.format(X_train_df.shape, y_train_df.shape))\n",
    "print('test data shape X, y: {},{}'.format(X_test_df.shape, y_test_df.shape))"
   ]
  },
  {
   "cell_type": "code",
   "execution_count": 9,
   "metadata": {},
   "outputs": [],
   "source": [
    "X_tokenizer = Tokenizer(num_words=None, filters='!\"#$%&()*+,-./:;<=>?@[\\\\]^_`{|}~\\t\\n', \n",
    "          lower=True, char_level=True, oov_token=None)\n",
    "\n",
    "y_tokenizer = Tokenizer(num_words=None, filters='!\"#$%&()*+,-./:;<=>?@[\\\\]^_`{|}~\\t\\n', \n",
    "          lower=True, char_level=False, oov_token=None)"
   ]
  },
  {
   "cell_type": "code",
   "execution_count": 10,
   "metadata": {},
   "outputs": [],
   "source": [
    "X_train = X_train_df.values.astype(str) # Otherwise, there's an error when calling 'fit_on_texts' >> AttributeError: 'int' object has no attribute 'lower'\n",
    "X_test = X_test_df.values.astype(str) # Otherwise, there's an error when calling 'fit_on_texts' >> AttributeError: 'int' object has no attribute 'lower'\n",
    "\n",
    "X_tokenizer.fit_on_texts(X_train)\n",
    "X_train = X_tokenizer.texts_to_sequences(X_train)\n",
    "X_test = X_tokenizer.texts_to_sequences(X_test)\n",
    "\n",
    "X_train = X_tokenizer.sequences_to_matrix(X_train)\n",
    "X_test = X_tokenizer.sequences_to_matrix(X_test)"
   ]
  },
  {
   "cell_type": "code",
   "execution_count": 11,
   "metadata": {},
   "outputs": [],
   "source": [
    "# encode from string labels to numerical labels \n",
    "label_encoder = LabelEncoder()\n",
    "y_train = label_encoder.fit_transform(y_train_df.values.astype(str)) # error without astype(str)\n",
    "y_test = label_encoder.transform(y_test_df.values.astype(str))\n",
    "# print(encoder.classes_.shape)\n",
    "# encoder.inverse_transform(y_train)\n",
    "\n",
    "y_train = to_categorical(y_train, num_classes)\n",
    "y_test = to_categorical(y_test, num_classes)"
   ]
  },
  {
   "cell_type": "code",
   "execution_count": 12,
   "metadata": {},
   "outputs": [
    {
     "data": {
      "text/plain": [
       "5460"
      ]
     },
     "execution_count": 12,
     "metadata": {},
     "output_type": "execute_result"
    }
   ],
   "source": [
    "len(y_train)"
   ]
  },
  {
   "cell_type": "code",
   "execution_count": 13,
   "metadata": {},
   "outputs": [
    {
     "name": "stdout",
     "output_type": "stream",
     "text": [
      "5460 train sequences\n",
      "1366 test sequences\n",
      "Pad sequences (samples x time)\n",
      "X_train shape: (5460, 15)\n",
      "X_test shape: (1366, 15)\n",
      "Build model...\n",
      "WARNING:tensorflow:From /usr/local/lib/python3.7/site-packages/tensorflow/python/framework/op_def_library.py:263: colocate_with (from tensorflow.python.framework.ops) is deprecated and will be removed in a future version.\n",
      "Instructions for updating:\n",
      "Colocations handled automatically by placer.\n",
      "WARNING:tensorflow:From /usr/local/lib/python3.7/site-packages/keras/backend/tensorflow_backend.py:3445: calling dropout (from tensorflow.python.ops.nn_ops) with keep_prob is deprecated and will be removed in a future version.\n",
      "Instructions for updating:\n",
      "Please use `rate` instead of `keep_prob`. Rate should be set to `rate = 1 - keep_prob`.\n",
      "Train...\n",
      "WARNING:tensorflow:From /usr/local/lib/python3.7/site-packages/tensorflow/python/ops/math_ops.py:3066: to_int32 (from tensorflow.python.ops.math_ops) is deprecated and will be removed in a future version.\n",
      "Instructions for updating:\n",
      "Use tf.cast instead.\n",
      "Train on 5460 samples, validate on 1366 samples\n",
      "Epoch 1/15\n",
      "5460/5460 [==============================] - 5s 825us/step - loss: 1.5272 - acc: 0.2879 - val_loss: 1.3963 - val_acc: 0.3199\n",
      "Epoch 2/15\n",
      "5460/5460 [==============================] - 3s 565us/step - loss: 1.3923 - acc: 0.3284 - val_loss: 1.3908 - val_acc: 0.3199\n",
      "Epoch 3/15\n",
      "5460/5460 [==============================] - 3s 574us/step - loss: 1.3891 - acc: 0.3269 - val_loss: 1.3877 - val_acc: 0.3199\n",
      "Epoch 4/15\n",
      "5460/5460 [==============================] - 3s 576us/step - loss: 1.3876 - acc: 0.3282 - val_loss: 1.3865 - val_acc: 0.3199\n",
      "Epoch 5/15\n",
      "5460/5460 [==============================] - 3s 619us/step - loss: 1.3881 - acc: 0.3282 - val_loss: 1.3875 - val_acc: 0.3199\n",
      "Epoch 6/15\n",
      "5460/5460 [==============================] - 4s 721us/step - loss: 1.3877 - acc: 0.3282 - val_loss: 1.3873 - val_acc: 0.3199\n",
      "Epoch 7/15\n",
      "5460/5460 [==============================] - 3s 585us/step - loss: 1.3876 - acc: 0.3280 - val_loss: 1.3877 - val_acc: 0.3199\n",
      "Epoch 8/15\n",
      "5460/5460 [==============================] - 3s 579us/step - loss: 1.3879 - acc: 0.3282 - val_loss: 1.3870 - val_acc: 0.3199\n",
      "Epoch 9/15\n",
      "5460/5460 [==============================] - 3s 631us/step - loss: 1.3865 - acc: 0.3282 - val_loss: 1.3947 - val_acc: 0.3199\n",
      "Epoch 10/15\n",
      "5460/5460 [==============================] - 3s 614us/step - loss: 1.3885 - acc: 0.3282 - val_loss: 1.3888 - val_acc: 0.3199\n",
      "Epoch 11/15\n",
      "5460/5460 [==============================] - 4s 664us/step - loss: 1.3869 - acc: 0.3282 - val_loss: 1.3882 - val_acc: 0.3199\n",
      "Epoch 12/15\n",
      "5460/5460 [==============================] - 3s 641us/step - loss: 1.3872 - acc: 0.3282 - val_loss: 1.3890 - val_acc: 0.3199\n",
      "Epoch 13/15\n",
      "5460/5460 [==============================] - 4s 651us/step - loss: 1.3871 - acc: 0.3282 - val_loss: 1.3874 - val_acc: 0.3199\n",
      "Epoch 14/15\n",
      "5460/5460 [==============================] - 4s 672us/step - loss: 1.3869 - acc: 0.3282 - val_loss: 1.3878 - val_acc: 0.3199\n",
      "Epoch 15/15\n",
      "5460/5460 [==============================] - 4s 644us/step - loss: 1.3858 - acc: 0.3282 - val_loss: 1.3913 - val_acc: 0.3199\n",
      "1366/1366 [==============================] - 0s 118us/step\n",
      "Test score: 1.3912789662795395\n",
      "Test accuracy: 0.3199121523566686\n"
     ]
    }
   ],
   "source": [
    "from keras.preprocessing import sequence\n",
    "from keras.models import Sequential\n",
    "from keras.layers import Dense, Embedding\n",
    "from keras.layers import LSTM\n",
    "from keras.datasets import imdb\n",
    "\n",
    "max_features = len(X_tokenizer.word_counts)\n",
    "batch_size = 32\n",
    "maxlen = 20\n",
    "\n",
    "print(len(X_train), 'train sequences')\n",
    "print(len(X_test), 'test sequences')\n",
    "\n",
    "print('Pad sequences (samples x time)')\n",
    "X_train = sequence.pad_sequences(X_train, maxlen=maxlen)\n",
    "X_test = sequence.pad_sequences(X_test, maxlen=maxlen)\n",
    "print('X_train shape:', X_train.shape)\n",
    "print('X_test shape:', X_test.shape)\n",
    "\n",
    "print('Build model...')\n",
    "model = Sequential()\n",
    "model.add(Embedding(max_features, output_dim=maxlen))\n",
    "model.add(LSTM(maxlen, dropout=0.2, recurrent_dropout=0.2))\n",
    "model.add(Dense(num_classes, activation='softmax'))\n",
    "model.compile(loss='categorical_crossentropy',\n",
    "              optimizer='adam',\n",
    "              metrics=['accuracy'])\n",
    "\n",
    "print('Train...')\n",
    "model.fit(X_train, y_train,\n",
    "          batch_size=batch_size,\n",
    "          epochs=15,\n",
    "          validation_data=(X_test, y_test))\n",
    "score, acc = model.evaluate(X_test, y_test,\n",
    "                            batch_size=batch_size)\n",
    "print('Test score:', score)\n",
    "print('Test accuracy:', acc)\n",
    "\n"
   ]
  },
  {
   "cell_type": "code",
   "execution_count": null,
   "metadata": {},
   "outputs": [],
   "source": [
    "# df['lenght'] = df['NAME'].apply(lambda x: len(x))\n",
    "# df['length']"
   ]
  },
  {
   "cell_type": "code",
   "execution_count": null,
   "metadata": {},
   "outputs": [],
   "source": [
    "X_tokenizer"
   ]
  },
  {
   "cell_type": "code",
   "execution_count": null,
   "metadata": {},
   "outputs": [],
   "source": []
  },
  {
   "cell_type": "code",
   "execution_count": null,
   "metadata": {},
   "outputs": [],
   "source": []
  }
 ],
 "metadata": {
  "kernelspec": {
   "display_name": "Python 3",
   "language": "python",
   "name": "python3"
  },
  "language_info": {
   "codemirror_mode": {
    "name": "ipython",
    "version": 3
   },
   "file_extension": ".py",
   "mimetype": "text/x-python",
   "name": "python",
   "nbconvert_exporter": "python",
   "pygments_lexer": "ipython3",
   "version": "3.7.2"
  }
 },
 "nbformat": 4,
 "nbformat_minor": 2
}
